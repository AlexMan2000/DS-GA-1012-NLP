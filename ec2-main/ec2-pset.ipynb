{
 "cells": [
  {
   "cell_type": "markdown",
   "id": "f79b5891",
   "metadata": {},
   "source": [
    "# EC 2: PyTorch Exercises\n",
    "**Due: February 27, 9:30 AM**\n",
    "\n",
    "In this extra credit assignment, you will practice working with computation graphs in [PyTorch](https://pytorch.org/). You are strongly encouraged to do this extra credit assignment if:\n",
    "* you have never used PyTorch before or you have not used it in a long time\n",
    "* you have not taken DS-GA 1011 (Natural Language Processing with Representation Learning) and you are unsure of whether you have the necessary background for this course\n",
    "* you want some easy extra credit points.\n",
    "\n",
    "## Important: Read Before Starting\n",
    "\n",
    "In the following exercises, you will need to implement functions defined in the `pytorch_exercises` module. Please write all your code in the `pytorch_exercises.py` file. You should not submit this notebook with your solutions, and we will not grade it if you do. Please be aware that code written in a Jupyter notebook may run differently when copied into Python modules.\n",
    "\n",
    "This notebook comes with outputs for some, but not all, of the code cells. Thes outputs are the outputs that you should get **when all coding problems have been completed correctly**. You may obtain different results if you attempt to run the code cells before you have completed the coding problems, or if you have completed one or more coding problems incorrectly.\n",
    "\n",
    "## Problem 1: Setup (0 Points in Total)\n",
    "\n",
    "### Problem 1a: Install PyTorch (No Submission, 0 Points)\n",
    "\n",
    "The typical way to install PyTorch is to simply run `pip install torch` or `conda install pytorch`. Please refer to the [PyTorch website](https://pytorch.org/) for detailed instructions specific to your machine. You can also install PyTorch directly from this notebook by running one of the following two code cells; this is recommended if you are running this notebook on Google Colaboratory or some other web-based Jupyter notebook server."
   ]
  },
  {
   "cell_type": "code",
   "execution_count": null,
   "id": "07fa6975",
   "metadata": {},
   "outputs": [],
   "source": [
    "# Install PyTorch using pip (recommended if you're on Google Colaboratory)\n",
    "!pip install torch"
   ]
  },
  {
   "cell_type": "code",
   "execution_count": null,
   "id": "7f248da7",
   "metadata": {},
   "outputs": [],
   "source": [
    "# Install PyTorch using conda\n",
    "!conda install pytorch"
   ]
  },
  {
   "cell_type": "markdown",
   "id": "bdee3eec",
   "metadata": {},
   "source": [
    "### Problem 1b: Import PyTorch (No Submission, 0 Points)\n",
    "\n",
    "Once you have installed PyTorch, please import the PyTorch library as follows. If the code cell below throws an error, then PyTorch has not been installed correctly and you need to repeat Problem 1a."
   ]
  },
  {
   "cell_type": "code",
   "execution_count": 1,
   "id": "976d1835",
   "metadata": {},
   "outputs": [],
   "source": [
    "import numpy as np  # Also import NumPy\n",
    "import torch \n",
    "import torch.nn as nn"
   ]
  },
  {
   "cell_type": "markdown",
   "id": "e1f14f83",
   "metadata": {},
   "source": [
    "PyTorch consists of several Python packages. The `torch` package implements automatic differentation (backpropagation), and it contains the `Tensor` data structure, which represents a computation graph node. The `torch.nn` package, by convention referred to as just `nn`, implements the PyTorch `Module`, which represents neural network architectures.\n",
    "\n",
    "## Problem 2: Tensors (16 Points in Total)\n",
    "\n",
    "In the following exercises, you will read snippets of code and describe what they do in plain English. You are free to consult the [PyTorch documentation](https://pytorch.org/docs/stable/index.html) as you complete these problems. You are also encouraged to run the code snippets in the Python console, in a Python script, or directly in the code cells below. Each code snippet assumes that all previous code snippets have already been run. Therefore, you must run the code snippets in the same order as they appear in the instructions.\n",
    "\n",
    "### Problem 2a: The PyTorch Tensor (Written, 2 Points)\n",
    "\n",
    "What kind of object does a tensor represent? What do the `.grad` and `.requires_grad` properties of a tensor represent?\n",
    "\n",
    "### Problem 2b: Tensor Data Types (Written, 3 Points)\n",
    "\n",
    "Please create some tensors using the following code."
   ]
  },
  {
   "cell_type": "code",
   "execution_count": 2,
   "id": "76b0f3c7",
   "metadata": {},
   "outputs": [],
   "source": [
    "a = np.array([[[1, 2, 3], [4, 5, 6]], [[7, 8, 9], [10, 11, 12]]])\n",
    "b = torch.Tensor(a)   # float, Alias for FloatTensor\n",
    "c = torch.LongTensor(a)  # long int\n",
    "d = torch.tensor(a)  # int\n",
    "e = torch.tensor(a, dtype=torch.float)  # float\n",
    "f = torch.Tensor(2, 3)"
   ]
  },
  {
   "cell_type": "code",
   "execution_count": 20,
   "id": "567b0253",
   "metadata": {},
   "outputs": [
    {
     "data": {
      "text/plain": [
       "tensor([[[ 1,  2,  3],\n",
       "         [ 4,  5,  6]],\n",
       "\n",
       "        [[ 7,  8,  9],\n",
       "         [10, 11, 12]]])"
      ]
     },
     "execution_count": 20,
     "metadata": {},
     "output_type": "execute_result"
    }
   ],
   "source": [
    "c"
   ]
  },
  {
   "cell_type": "markdown",
   "id": "a9c6fb2c",
   "metadata": {},
   "source": [
    "What is the difference between `b`, `c`, `d`, `e`, and `f`?\n",
    "- torch.Tensor(ndarray) creates a tensor with float32, alias for FloatTensor\n",
    "- torch.LongTensor(ndarray) converts ndarray to long int\n",
    "- torch.tensor(ndarray) converts ndarray to int32\n",
    "- torch.tensor(ndarray, dtype=torch.float) converts ndarray to float type\n",
    "- torch.Tensor(m,n) creates a uninitialized float tensor with shape (m,n)\n",
    "\n",
    "### Problem 2c: Creating Tensors (Written, 3 Points)\n",
    "\n",
    "Please run the following code."
   ]
  },
  {
   "cell_type": "code",
   "execution_count": 16,
   "id": "eab58def",
   "metadata": {},
   "outputs": [
    {
     "name": "stdout",
     "output_type": "stream",
     "text": [
      "tensor([[5, 5, 5],\n",
      "        [5, 5, 5]])\n",
      "tensor([[ 0.2311,  0.4374,  0.7609],\n",
      "        [ 2.4966,  1.1810, -0.7876]])\n"
     ]
    }
   ],
   "source": [
    "print(torch.full((2, 3), 5)) \n",
    "print(torch.randn(2, 3))"
   ]
  },
  {
   "cell_type": "markdown",
   "id": "3aa8e20c",
   "metadata": {},
   "source": [
    "What do `torch.full` and `torch.randn` do?\n",
    "- torch.full(shape_tuple, number) creates a m x n tensor of type of the number\n",
    "- torch.randn(m,n) generates a m x n tensor with each entries following N(0,1) distribution.\n",
    "\n",
    "### Problem 2d: Differentiation (Written, 3 Points)\n",
    "\n",
    "Please run the following code."
   ]
  },
  {
   "cell_type": "code",
   "execution_count": 23,
   "id": "1c452df5",
   "metadata": {},
   "outputs": [],
   "source": [
    "b.requires_grad = True   # complex type\n",
    "# c.requires_grad = True   # int type, not complex"
   ]
  },
  {
   "cell_type": "markdown",
   "id": "ada25da1",
   "metadata": {},
   "source": [
    "One of these lines of code should work; the other should raise a `RuntimeError`. Why are PyTorch tensors designed this way?\n",
    "- Since gradient are generally real-valued and cannot be represented using just integers.\n",
    "\n",
    "### Problem 2e: PyTorch vs. NumPy Operations (Written, 3 Points)\n",
    "\n",
    "Many NumPy array operations will work on PyTorch tensors, such as `+`, `-`, `*`, `/`, `@`, and `.T`. However, there are some minor differences between array operations and tensor operations. Please run the following lines of code on the array `a`."
   ]
  },
  {
   "cell_type": "code",
   "execution_count": 26,
   "id": "35a49372",
   "metadata": {},
   "outputs": [
    {
     "data": {
      "text/plain": [
       "array([[[ 1,  2,  3],\n",
       "        [ 4,  5,  6]],\n",
       "\n",
       "       [[ 7,  8,  9],\n",
       "        [10, 11, 12]]])"
      ]
     },
     "execution_count": 26,
     "metadata": {},
     "output_type": "execute_result"
    }
   ],
   "source": [
    "a"
   ]
  },
  {
   "cell_type": "code",
   "execution_count": 27,
   "id": "b9cd254e",
   "metadata": {},
   "outputs": [
    {
     "data": {
      "text/plain": [
       "(2, 2, 3)"
      ]
     },
     "execution_count": 27,
     "metadata": {},
     "output_type": "execute_result"
    }
   ],
   "source": [
    "a.shape"
   ]
  },
  {
   "cell_type": "code",
   "execution_count": 30,
   "id": "cfd3ab26",
   "metadata": {},
   "outputs": [
    {
     "name": "stdout",
     "output_type": "stream",
     "text": [
      "[[ 6 15]\n",
      " [24 33]]\n",
      "(1, 2, 2, 3)\n",
      "(2, 2, 3, 1)\n",
      "[[ 1  2  3]\n",
      " [ 4  5  6]\n",
      " [ 7  8  9]\n",
      " [10 11 12]]\n",
      "12\n"
     ]
    }
   ],
   "source": [
    "print(a.sum(axis=-1)) \n",
    "print(a[np.newaxis].shape) \n",
    "print(a[:,:,:, np.newaxis].shape) \n",
    "print(a.reshape(4, -1)) \n",
    "print(a.size)"
   ]
  },
  {
   "cell_type": "markdown",
   "id": "6859e4c4",
   "metadata": {},
   "source": [
    "What is the equivalent of the above code for tensors? Please give your answer as a 4-line code snippet that applies to `b` the tensor operations that are analogous to the array operations shown above for `a`."
   ]
  },
  {
   "cell_type": "code",
   "execution_count": 1,
   "id": "b0dee977",
   "metadata": {},
   "outputs": [
    {
     "ename": "NameError",
     "evalue": "name 'b' is not defined",
     "output_type": "error",
     "traceback": [
      "\u001b[1;31m---------------------------------------------------------------------------\u001b[0m",
      "\u001b[1;31mNameError\u001b[0m                                 Traceback (most recent call last)",
      "Cell \u001b[1;32mIn[1], line 1\u001b[0m\n\u001b[1;32m----> 1\u001b[0m \u001b[38;5;28mprint\u001b[39m(\u001b[43mb\u001b[49m\u001b[38;5;241m.\u001b[39msum(axis\u001b[38;5;241m=\u001b[39m\u001b[38;5;241m-\u001b[39m\u001b[38;5;241m1\u001b[39m)) \n\u001b[0;32m      2\u001b[0m \u001b[38;5;28mprint\u001b[39m(b[:, np\u001b[38;5;241m.\u001b[39mnewaxis]\u001b[38;5;241m.\u001b[39mshape) \n\u001b[0;32m      3\u001b[0m \u001b[38;5;28mprint\u001b[39m(b\u001b[38;5;241m.\u001b[39mreshape(\u001b[38;5;241m4\u001b[39m, \u001b[38;5;241m-\u001b[39m\u001b[38;5;241m1\u001b[39m)) \n",
      "\u001b[1;31mNameError\u001b[0m: name 'b' is not defined"
     ]
    }
   ],
   "source": [
    "print(b.sum(axis=-1)) \n",
    "print(b[:, np.newaxis].shape) \n",
    "print(b.reshape(4, -1)) \n",
    "print(b.size)"
   ]
  },
  {
   "cell_type": "markdown",
   "id": "39ba3a9c",
   "metadata": {},
   "source": [
    "\n",
    "\n",
    "### Problem 2f: More Operations (Written, 2 Points)\n",
    "\n",
    "Please run the following code."
   ]
  },
  {
   "cell_type": "code",
   "execution_count": 36,
   "id": "7f8fdbd9",
   "metadata": {},
   "outputs": [
    {
     "name": "stdout",
     "output_type": "stream",
     "text": [
      "tensor([[1., 1., 1., 5., 5., 5., 5.],\n",
      "        [1., 1., 1., 5., 5., 5., 5.]])\n"
     ]
    }
   ],
   "source": [
    "b = torch.ones(2, 3)\n",
    "c = torch.full((2, 4), 5)\n",
    "d = torch.cat([b, c], dim=-1)\n",
    "print(d)"
   ]
  },
  {
   "cell_type": "markdown",
   "id": "dd3c53e9",
   "metadata": {},
   "source": [
    "What do `torch.ones` and `torch.cat` do?\n",
    "- torch.ones(m,n) generates a floatensor with all the entries being 1.0\n",
    "- torch.cat([tensor1, tensor2]) concatenates two different tensors in the specified dimension, dim=-1 means concatenation in the last dimension."
   ]
  },
  {
   "cell_type": "code",
   "execution_count": null,
   "id": "86f0d30e",
   "metadata": {},
   "outputs": [],
   "source": []
  },
  {
   "cell_type": "markdown",
   "id": "ac255668",
   "metadata": {},
   "source": [
    "\n",
    "\n",
    "## Problem 3: Modules (9 Points in Total)\n",
    "\n",
    "### Problem 3a: Chaining Layers Together (Written, 3 Points)\n",
    "\n",
    "Please run the following code."
   ]
  },
  {
   "cell_type": "code",
   "execution_count": 37,
   "id": "ddb7928a",
   "metadata": {},
   "outputs": [],
   "source": [
    "lin1 = nn.Linear(2, 3)\n",
    "lin2 = nn.Linear(3, 4)\n",
    "model = nn.Sequential(lin1, nn.Tanh(), lin2)"
   ]
  },
  {
   "cell_type": "markdown",
   "id": "f5f1c2ac",
   "metadata": {},
   "source": [
    "Describe `model`. What kind of neural network is it?\n",
    "- This is a 2-layered linear model connected by a tanh activation function."
   ]
  },
  {
   "cell_type": "markdown",
   "id": "b40f9738",
   "metadata": {},
   "source": [
    "\n",
    "\n",
    "### Problem 3b: Recurrent Neural Networks (Written, 3 Points)\n",
    "\n",
    "Various types of recurrent neural networks (RNNs) are implemented using the `nn.RNN`, `nn.LSTM`, and `nn.GRU` modules. Please run the following code."
   ]
  },
  {
   "cell_type": "code",
   "execution_count": null,
   "id": "2e03f38b",
   "metadata": {},
   "outputs": [],
   "source": [
    "# Create some fake word embeddings\n",
    "embedding_layer = nn.Embedding(100, 20)\n",
    "\n",
    "# Create an LSTM\n",
    "lstm = nn.LSTM(input_size=20, hidden_size=9, batch_first=True)\n",
    "\n",
    "# Create a fake input\n",
    "x = torch.randint(100, (5, 7))\n",
    "\n",
    "# Run the LSTM\n",
    "embeddings = embedding_layer(x) \n",
    "h, _ = lstm(embeddings)\n",
    "\n",
    "print(x.shape) \n",
    "print(embeddings.shape) \n",
    "print(h.shape)"
   ]
  },
  {
   "cell_type": "markdown",
   "id": "cf92c511",
   "metadata": {},
   "source": [
    "Describe `x`, `embeddings`, and `h`. What do each of their dimensions represent? What does `batch_first=True` do on line 5?\n",
    "\n",
    "### Problem 3c: Calculating Gradients (Written, 3 Points)\n",
    "\n",
    "Please run the following code."
   ]
  },
  {
   "cell_type": "code",
   "execution_count": null,
   "id": "c13235a6",
   "metadata": {},
   "outputs": [],
   "source": [
    "# Create a fake input and output\n",
    "x = torch.randn(5, 2)\n",
    "y = torch.randint(4, (5,))\n",
    "\n",
    "# Create a loss function\n",
    "loss_function = nn.CrossEntropyLoss()\n",
    "\n",
    "# Run the forward pass on model\n",
    "logits = model(x)\n",
    "loss = loss_function(logits , y)"
   ]
  },
  {
   "cell_type": "markdown",
   "id": "a979c78b",
   "metadata": {},
   "source": [
    "How would you run the backward pass for the (fake) mini-batch represented by the input `x` and labels `y`? \n",
    "\n",
    "**Hints:**\n",
    "* Your answer should consist of a single line of code.\n",
    "* After running your one line of code, the following loop should print the gradients of all of model’s parameters. None of the gradients should be `None`."
   ]
  },
  {
   "cell_type": "code",
   "execution_count": null,
   "id": "7f8dc2ca",
   "metadata": {},
   "outputs": [],
   "source": [
    "for p in model.parameters(): \n",
    "    print(p.grad)"
   ]
  }
 ],
 "metadata": {
  "kernelspec": {
   "display_name": "Python 3 (ipykernel)",
   "language": "python",
   "name": "python3"
  },
  "language_info": {
   "codemirror_mode": {
    "name": "ipython",
    "version": 3
   },
   "file_extension": ".py",
   "mimetype": "text/x-python",
   "name": "python",
   "nbconvert_exporter": "python",
   "pygments_lexer": "ipython3",
   "version": "0.0.0"
  }
 },
 "nbformat": 4,
 "nbformat_minor": 5
}
